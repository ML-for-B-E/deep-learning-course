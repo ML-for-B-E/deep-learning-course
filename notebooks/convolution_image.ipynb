{
 "cells": [
  {
   "cell_type": "markdown",
   "id": "df8e0534",
   "metadata": {},
   "source": [
    "# Convolution d'images\n",
    "\n",
    "## 1. Charger une image puis l'afficher"
   ]
  },
  {
   "cell_type": "code",
   "execution_count": null,
   "id": "b2de4081",
   "metadata": {},
   "outputs": [],
   "source": [
    "import numpy as np\n",
    "from PIL import Image, ImageOps, ImageFilter"
   ]
  },
  {
   "cell_type": "code",
   "execution_count": null,
   "id": "835966c7",
   "metadata": {},
   "outputs": [],
   "source": [
    "img = Image.open(\"../figures/20200102_154649.jpg\") # \"20200102_154649.jpg\", \"20200102_185911.jpg\""
   ]
  },
  {
   "cell_type": "code",
   "execution_count": null,
   "id": "c1b58f76",
   "metadata": {},
   "outputs": [],
   "source": [
    "# Afficher la taille de l'image chargée\n",
    "img_array = np.asarray(img)\n",
    "img_size = img_array.shape\n",
    "print(\"Taille de l'image : \", img_size)"
   ]
  },
  {
   "cell_type": "code",
   "execution_count": null,
   "id": "98c0cd6b",
   "metadata": {},
   "outputs": [],
   "source": [
    "# Redimensionner l'image pour avoir une largeur de 512\n",
    "new_width = 512\n",
    "rescaling_ratio = new_width/img_size[1]\n",
    "new_dims = (new_width, int(img_size[0] * rescaling_ratio))\n",
    "\n",
    "# Utiliser une interpolation linéaire pour le redimensionnement\n",
    "img = img.resize(new_dims)\n",
    "\n",
    "print(\"Taille de l'image redimensionnée : \", np.asarray(img).shape)"
   ]
  },
  {
   "cell_type": "code",
   "execution_count": null,
   "id": "b723e96d",
   "metadata": {},
   "outputs": [],
   "source": [
    "# Afficher l'image redimensionnée\n",
    "img.show()\n",
    "\n",
    "# Pour afficher l'image dans le notebook\n",
    "display(img)"
   ]
  },
  {
   "cell_type": "code",
   "execution_count": null,
   "id": "324f1616",
   "metadata": {},
   "outputs": [],
   "source": [
    "# Convertir l'image en niveaux de gris\n",
    "gray_img = ImageOps.grayscale(img)\n",
    "\n",
    "display(gray_img)"
   ]
  },
  {
   "cell_type": "markdown",
   "id": "e4a6d0c0",
   "metadata": {},
   "source": [
    "## 2. Effet de la convolution sur image"
   ]
  },
  {
   "cell_type": "code",
   "execution_count": null,
   "id": "2256a5f0",
   "metadata": {},
   "outputs": [],
   "source": [
    "size = (3, 3)\n",
    "# Filtre laplacian sur l'image couleur\n",
    "# [0  1  0\n",
    "#  1 -4  1\n",
    "#  0  1  0]\n",
    "laplacian_kernel = (\n",
    "    0, 1, 0, \n",
    "    1, -4, 1, \n",
    "    0, 1, 0,\n",
    ")\n",
    "convolution_kernel = ImageFilter.Kernel(size, laplacian_kernel, scale=1, offset=0)"
   ]
  },
  {
   "cell_type": "code",
   "execution_count": null,
   "id": "e7983ed3",
   "metadata": {},
   "outputs": [],
   "source": [
    "img_filtered = img.filter(convolution_kernel)\n",
    "\n",
    "display(img_filtered)"
   ]
  },
  {
   "cell_type": "code",
   "execution_count": null,
   "id": "79b18cd7",
   "metadata": {},
   "outputs": [],
   "source": [
    "img_filtered = gray_img.filter(convolution_kernel)\n",
    "\n",
    "display(img_filtered)"
   ]
  },
  {
   "cell_type": "markdown",
   "id": "17b4728f",
   "metadata": {},
   "source": [
    "---\n",
    "# End of script\n",
    "---"
   ]
  }
 ],
 "metadata": {
  "interpreter": {
   "hash": "4445933b46ffea109112bd65b29d80bfcc8cc2064087c198a6c13763b109acf2"
  },
  "kernelspec": {
   "display_name": "venv",
   "language": "python",
   "name": "venv"
  },
  "language_info": {
   "codemirror_mode": {
    "name": "ipython",
    "version": 3
   },
   "file_extension": ".py",
   "mimetype": "text/x-python",
   "name": "python",
   "nbconvert_exporter": "python",
   "pygments_lexer": "ipython3",
   "version": "3.9.10"
  }
 },
 "nbformat": 4,
 "nbformat_minor": 5
}
